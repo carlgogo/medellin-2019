{
 "cells": [
  {
   "cell_type": "markdown",
   "metadata": {},
   "source": [
    "# Research Questions and Objectives\n",
    "\n",
    "Our study site is located in the Valle del Cauca region, near the town of Palmira. This area was chosen as almost all of the cropland in this region is dedicated to sugar cane. Before getting started on the project, I would advise you to read [this review](https://www.researchgate.net/publication/228888600_The_application_of_remote_sensing_techniques_to_sugarcane_Saccharum_spp_hybrid_production_A_review_of_the_literature). The paper introduces sugar cane as crop and defines some of the key research questions, however, remember that this is over 10 years old and the field has moved on, with new satellites and higher temporal and spatial resolution sensors.\n",
    "\n",
    "I have provided you with imagery of an area of land approximately 100 square kilometres, containing many different land cover types, however the area within fields are almost all sugar cane. There are 26 time points from 18th of December 2016 until 22nd of January 2019. For each time point, there are reflectance values in 8 [Sentinel 2 bands](https://earth.esa.int/web/sentinel/technical-guides/sentinel-2-msi/msi-instrument) and label values in a [Scene Classification Layer](https://earth.esa.int/web/sentinel/technical-guides/sentinel-2-msi/level-2a/algorithm).\n",
    "\n",
    "**Research Question 1: What area is covered by sugar cane?** Reliably identify pixels containing sugarcane is the first challenge. You could use a clustering method as described in [this tutorial](../tutorials/3.%20Segmenting%20radar%20images.ipynb) or you could manually label pixels within an image and used a supervised classification technique.\n",
    "\n",
    "**Research Question 2: How long does each crop cycle take?**\n",
    "\n",
    "**Research Question 3: How much variation is there in the fields? Are any areas performing badly?** You may need to explore the literature to better understand the relationship between vegetation indices and crop health.\n",
    "\n",
    "**Research Question 4: Is it possible to estimate the yield, using the literature?**"
   ]
  }
 ],
 "metadata": {
  "kernelspec": {
   "display_name": "Python 3",
   "language": "python",
   "name": "python3"
  },
  "language_info": {
   "codemirror_mode": {
    "name": "ipython",
    "version": 3
   },
   "file_extension": ".py",
   "mimetype": "text/x-python",
   "name": "python",
   "nbconvert_exporter": "python",
   "pygments_lexer": "ipython3",
   "version": "3.7.1"
  }
 },
 "nbformat": 4,
 "nbformat_minor": 2
}
